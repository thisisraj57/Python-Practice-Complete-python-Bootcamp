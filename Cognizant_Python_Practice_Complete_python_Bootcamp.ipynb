{
  "nbformat": 4,
  "nbformat_minor": 0,
  "metadata": {
    "colab": {
      "provenance": [],
      "authorship_tag": "ABX9TyMRSJZh5PfV2Ut/JdiP3yXV",
      "include_colab_link": true
    },
    "kernelspec": {
      "name": "python3",
      "display_name": "Python 3"
    },
    "language_info": {
      "name": "python"
    }
  },
  "cells": [
    {
      "cell_type": "markdown",
      "metadata": {
        "id": "view-in-github",
        "colab_type": "text"
      },
      "source": [
        "<a href=\"https://colab.research.google.com/github/thisisraj57/Python-Practice-Complete-python-Bootcamp/blob/main/Cognizant_Python_Practice_Complete_python_Bootcamp.ipynb\" target=\"_parent\"><img src=\"https://colab.research.google.com/assets/colab-badge.svg\" alt=\"Open In Colab\"/></a>"
      ]
    },
    {
      "cell_type": "markdown",
      "source": [
        "https://github.com/Pierian-Data/Complete-Python-3-Bootcamp/tree/master"
      ],
      "metadata": {
        "id": "B1BHZVsx3XxP"
      }
    },
    {
      "cell_type": "code",
      "execution_count": 1,
      "metadata": {
        "colab": {
          "base_uri": "https://localhost:8080/"
        },
        "id": "boeYmzC42i0w",
        "outputId": "2e996308-5bbc-4909-d26b-d73dc657700a"
      },
      "outputs": [
        {
          "output_type": "execute_result",
          "data": {
            "text/plain": [
              "1"
            ]
          },
          "metadata": {},
          "execution_count": 1
        }
      ],
      "source": [
        "2-1"
      ]
    },
    {
      "cell_type": "code",
      "source": [
        "2%4"
      ],
      "metadata": {
        "colab": {
          "base_uri": "https://localhost:8080/"
        },
        "id": "lFz1CvWB3RhH",
        "outputId": "05addef8-ebc2-4a8c-ba86-bb41f5841714"
      },
      "execution_count": 3,
      "outputs": [
        {
          "output_type": "execute_result",
          "data": {
            "text/plain": [
              "2"
            ]
          },
          "metadata": {},
          "execution_count": 3
        }
      ]
    },
    {
      "cell_type": "code",
      "source": [
        "a='I am Kanishka Raj'\n",
        "print(a)\n",
        "len(a)"
      ],
      "metadata": {
        "colab": {
          "base_uri": "https://localhost:8080/"
        },
        "id": "Xi_D7LC23TCX",
        "outputId": "eaa6855f-163d-4c12-fdf2-07a641c45ebf"
      },
      "execution_count": 6,
      "outputs": [
        {
          "output_type": "stream",
          "name": "stdout",
          "text": [
            "I am Kanishka Raj\n"
          ]
        },
        {
          "output_type": "execute_result",
          "data": {
            "text/plain": [
              "17"
            ]
          },
          "metadata": {},
          "execution_count": 6
        }
      ]
    },
    {
      "cell_type": "code",
      "source": [
        "mystring =\"Hello Word\"\n",
        "mystring[-2]"
      ],
      "metadata": {
        "colab": {
          "base_uri": "https://localhost:8080/",
          "height": 35
        },
        "id": "__r4pant6eI0",
        "outputId": "d40f2571-a9e0-409d-ffe2-80f9d5724dea"
      },
      "execution_count": 9,
      "outputs": [
        {
          "output_type": "execute_result",
          "data": {
            "text/plain": [
              "'r'"
            ],
            "application/vnd.google.colaboratory.intrinsic+json": {
              "type": "string"
            }
          },
          "metadata": {},
          "execution_count": 9
        }
      ]
    },
    {
      "cell_type": "code",
      "source": [
        "raj=\"abcdefghijkl\""
      ],
      "metadata": {
        "id": "rv_6XBZc72xX"
      },
      "execution_count": 10,
      "outputs": []
    },
    {
      "cell_type": "code",
      "source": [
        "raj[2:7:2]"
      ],
      "metadata": {
        "colab": {
          "base_uri": "https://localhost:8080/",
          "height": 35
        },
        "id": "7ypT7n_q77Ag",
        "outputId": "7a0e46f2-d557-484c-fe1a-9f2b7d3c672d"
      },
      "execution_count": 12,
      "outputs": [
        {
          "output_type": "execute_result",
          "data": {
            "text/plain": [
              "'ceg'"
            ],
            "application/vnd.google.colaboratory.intrinsic+json": {
              "type": "string"
            }
          },
          "metadata": {},
          "execution_count": 12
        }
      ]
    },
    {
      "cell_type": "code",
      "source": [
        "raj[::-1]"
      ],
      "metadata": {
        "colab": {
          "base_uri": "https://localhost:8080/",
          "height": 35
        },
        "id": "aWdlW92r8q0P",
        "outputId": "3457a9af-77b6-4b71-f84c-d8179a1ff0bd"
      },
      "execution_count": 13,
      "outputs": [
        {
          "output_type": "execute_result",
          "data": {
            "text/plain": [
              "'lkjihgfedcba'"
            ],
            "application/vnd.google.colaboratory.intrinsic+json": {
              "type": "string"
            }
          },
          "metadata": {},
          "execution_count": 13
        }
      ]
    },
    {
      "cell_type": "code",
      "source": [
        "name= 'Sam'"
      ],
      "metadata": {
        "id": "F758b4JV-da_"
      },
      "execution_count": 14,
      "outputs": []
    },
    {
      "cell_type": "code",
      "source": [
        "last_letter= name[1:]"
      ],
      "metadata": {
        "id": "EkFMgtZX-jlF"
      },
      "execution_count": 15,
      "outputs": []
    },
    {
      "cell_type": "code",
      "source": [
        "last_letter"
      ],
      "metadata": {
        "colab": {
          "base_uri": "https://localhost:8080/",
          "height": 35
        },
        "id": "TRRQ-Hz4-trr",
        "outputId": "901ba795-833f-4484-a4a8-356b24baf0de"
      },
      "execution_count": 16,
      "outputs": [
        {
          "output_type": "execute_result",
          "data": {
            "text/plain": [
              "'am'"
            ],
            "application/vnd.google.colaboratory.intrinsic+json": {
              "type": "string"
            }
          },
          "metadata": {},
          "execution_count": 16
        }
      ]
    },
    {
      "cell_type": "code",
      "source": [
        "x= \"I am beautiful\""
      ],
      "metadata": {
        "id": "Ee9aIO7u-vUn"
      },
      "execution_count": 17,
      "outputs": []
    },
    {
      "cell_type": "code",
      "source": [
        "x= x + \"in my room\""
      ],
      "metadata": {
        "id": "ptPnvWiL_B1I"
      },
      "execution_count": 24,
      "outputs": []
    },
    {
      "cell_type": "code",
      "source": [
        "x"
      ],
      "metadata": {
        "colab": {
          "base_uri": "https://localhost:8080/",
          "height": 35
        },
        "id": "EVDUbVNV_bej",
        "outputId": "e58a679e-7c58-4f57-9c3d-8e8f5f81e92e"
      },
      "execution_count": 25,
      "outputs": [
        {
          "output_type": "execute_result",
          "data": {
            "text/plain": [
              "'I am beautifulin my roomin my roomin my room'"
            ],
            "application/vnd.google.colaboratory.intrinsic+json": {
              "type": "string"
            }
          },
          "metadata": {},
          "execution_count": 25
        }
      ]
    },
    {
      "cell_type": "code",
      "source": [
        "print('this is a string {}'.format('INSERTED'))"
      ],
      "metadata": {
        "colab": {
          "base_uri": "https://localhost:8080/"
        },
        "id": "7fy3WJxXcBVN",
        "outputId": "4d5732ed-955d-40d3-fdda-6e5e6aa5da84"
      },
      "execution_count": 27,
      "outputs": [
        {
          "output_type": "stream",
          "name": "stdout",
          "text": [
            "this is a string INSERTED\n"
          ]
        }
      ]
    },
    {
      "cell_type": "code",
      "source": [
        "print('this is a {1} string {0} '.format('INSERTED', 'BOx', 'rose'))"
      ],
      "metadata": {
        "colab": {
          "base_uri": "https://localhost:8080/"
        },
        "id": "rnToYYfKcTFu",
        "outputId": "320ef484-a955-42fc-c121-0f20d4b4bfb8"
      },
      "execution_count": 28,
      "outputs": [
        {
          "output_type": "stream",
          "name": "stdout",
          "text": [
            "this is a BOx string INSERTED \n"
          ]
        }
      ]
    },
    {
      "cell_type": "code",
      "source": [
        "print('{b} this is a {c} string {a} '.format(a='INSERTED', b='BOx', c='rose'))"
      ],
      "metadata": {
        "colab": {
          "base_uri": "https://localhost:8080/"
        },
        "id": "T_50NnPqc3O8",
        "outputId": "4d5f0b22-a423-4be6-cae3-f07898624819"
      },
      "execution_count": 29,
      "outputs": [
        {
          "output_type": "stream",
          "name": "stdout",
          "text": [
            "BOx this is a rose string INSERTED \n"
          ]
        }
      ]
    },
    {
      "cell_type": "code",
      "source": [
        "raj='I like {}'.format('apples')"
      ],
      "metadata": {
        "id": "YyATm0O-dJww"
      },
      "execution_count": 40,
      "outputs": []
    },
    {
      "cell_type": "code",
      "source": [
        "raj"
      ],
      "metadata": {
        "colab": {
          "base_uri": "https://localhost:8080/",
          "height": 35
        },
        "id": "kt9buqWKdQoi",
        "outputId": "2ff6c244-b8e9-4e33-fd8b-53b6415a2185"
      },
      "execution_count": 41,
      "outputs": [
        {
          "output_type": "execute_result",
          "data": {
            "text/plain": [
              "'I like apples'"
            ],
            "application/vnd.google.colaboratory.intrinsic+json": {
              "type": "string"
            }
          },
          "metadata": {},
          "execution_count": 41
        }
      ]
    },
    {
      "cell_type": "code",
      "source": [
        "print(\"the result is : {r:1.3f}\".format(r= raj))"
      ],
      "metadata": {
        "colab": {
          "base_uri": "https://localhost:8080/"
        },
        "id": "SaCkpCD6dSZV",
        "outputId": "df440032-f279-48b6-df4a-497b06784d2a"
      },
      "execution_count": 37,
      "outputs": [
        {
          "output_type": "stream",
          "name": "stdout",
          "text": [
            "the result is : 35.032\n"
          ]
        }
      ]
    },
    {
      "cell_type": "code",
      "source": [
        "player = 'Thomas'\n",
        "points = 33\n",
        "\n",
        "'Last night, '+player+' scored '+str(points)+' points.'  # concatenation"
      ],
      "metadata": {
        "colab": {
          "base_uri": "https://localhost:8080/",
          "height": 35
        },
        "id": "feud9zGIdlBT",
        "outputId": "55aa2802-c777-4cf1-96c1-c4d31438299d"
      },
      "execution_count": 8,
      "outputs": [
        {
          "output_type": "execute_result",
          "data": {
            "text/plain": [
              "'Last night, Thomas scored 33 points.'"
            ],
            "application/vnd.google.colaboratory.intrinsic+json": {
              "type": "string"
            }
          },
          "metadata": {},
          "execution_count": 8
        }
      ]
    },
    {
      "cell_type": "code",
      "source": [
        "f'Last night, {player} scored {points} points.'          # string formatting"
      ],
      "metadata": {
        "colab": {
          "base_uri": "https://localhost:8080/",
          "height": 35
        },
        "id": "6fqyKx_NyIWW",
        "outputId": "cb58d0cb-5b85-4d4d-850a-4dc306dd4aba"
      },
      "execution_count": 3,
      "outputs": [
        {
          "output_type": "execute_result",
          "data": {
            "text/plain": [
              "'Last night, Thomas scored 33 points.'"
            ],
            "application/vnd.google.colaboratory.intrinsic+json": {
              "type": "string"
            }
          },
          "metadata": {},
          "execution_count": 3
        }
      ]
    },
    {
      "cell_type": "code",
      "source": [
        "raj= 'postoffice'\n",
        "no= 23\n",
        "\n",
        "'Yesterday I went to, ' + raj + ' which is ' + str(no) + ' km from my home.'\n",
        "'The ' +raj+ ' is very near to my house which is ' +str(no)\n"
      ],
      "metadata": {
        "colab": {
          "base_uri": "https://localhost:8080/",
          "height": 35
        },
        "id": "T7vg7-_Aylr9",
        "outputId": "8b465c72-6e69-47aa-b45d-903ecdf22199"
      },
      "execution_count": 13,
      "outputs": [
        {
          "output_type": "execute_result",
          "data": {
            "text/plain": [
              "'The postoffice is very near to my house which is 23'"
            ],
            "application/vnd.google.colaboratory.intrinsic+json": {
              "type": "string"
            }
          },
          "metadata": {},
          "execution_count": 13
        }
      ]
    },
    {
      "cell_type": "code",
      "source": [
        "print(\"I am going to inject %s here\" %'my name')\n",
        "print(\"I am going to inject %s here and %s\" %('my','name'))"
      ],
      "metadata": {
        "colab": {
          "base_uri": "https://localhost:8080/"
        },
        "id": "gpsvCN290piH",
        "outputId": "8e542b49-044f-482a-c99a-afb7fffbc10f"
      },
      "execution_count": 21,
      "outputs": [
        {
          "output_type": "stream",
          "name": "stdout",
          "text": [
            "I am going to inject my name here\n",
            "I am going to inject my here and name\n"
          ]
        }
      ]
    },
    {
      "cell_type": "code",
      "source": [
        "print('He said his name was %s.' %'Fred')\n",
        "print('He said his name was %r.' %'Fred')\n",
        "print('I once caught a fish %s.' %'this \\tbig')\n",
        "print('I once caught a fish %r.' %'this \\tbig')"
      ],
      "metadata": {
        "colab": {
          "base_uri": "https://localhost:8080/"
        },
        "id": "IUaWNs8z2cOa",
        "outputId": "40fcb7ef-1af2-45c9-843c-6e2384fb715f"
      },
      "execution_count": 26,
      "outputs": [
        {
          "output_type": "stream",
          "name": "stdout",
          "text": [
            "He said his name was Fred.\n",
            "He said his name was 'Fred'.\n",
            "I once caught a fish this \tbig.\n",
            "I once caught a fish 'this \\tbig'.\n"
          ]
        }
      ]
    },
    {
      "cell_type": "code",
      "source": [
        "print('I wrote %s programs today.' %3.75)\n",
        "print('I wrote %d programs today.' %3.75)"
      ],
      "metadata": {
        "colab": {
          "base_uri": "https://localhost:8080/"
        },
        "id": "iATd3lYr3E8Y",
        "outputId": "4e59a128-696a-4189-87e4-611d489650b3"
      },
      "execution_count": 27,
      "outputs": [
        {
          "output_type": "stream",
          "name": "stdout",
          "text": [
            "I wrote 3.75 programs today.\n",
            "I wrote 3 programs today.\n"
          ]
        }
      ]
    },
    {
      "cell_type": "code",
      "source": [
        "print('Floating point numbers: %5.2f' %(13.144))\n",
        "print('Floating point numbers: %1.0f' %(13.144))\n",
        "print('Floating point numbers: %1.5f' %(13.144))\n",
        "print('Floating point numbers: %10.2f' %(13.144))\n",
        "print('Floating point numbers: %25.2f' %(13.144))"
      ],
      "metadata": {
        "colab": {
          "base_uri": "https://localhost:8080/"
        },
        "id": "NFQpk5HA4Sei",
        "outputId": "2fbcdf65-1b13-4161-c12c-0f66b6f0c6df"
      },
      "execution_count": 28,
      "outputs": [
        {
          "output_type": "stream",
          "name": "stdout",
          "text": [
            "Floating point numbers: 13.14\n",
            "Floating point numbers: 13\n",
            "Floating point numbers: 13.14400\n",
            "Floating point numbers:      13.14\n",
            "Floating point numbers:                     13.14\n"
          ]
        }
      ]
    },
    {
      "cell_type": "code",
      "source": [
        "print('First: %s, Second: %5.2f, Third: %r' %('hi!',3.1415,'bye!'))"
      ],
      "metadata": {
        "colab": {
          "base_uri": "https://localhost:8080/"
        },
        "id": "raBZ449B4oNX",
        "outputId": "6a494212-f7de-40b4-ed41-c11436bc0e3f"
      },
      "execution_count": 29,
      "outputs": [
        {
          "output_type": "stream",
          "name": "stdout",
          "text": [
            "First: hi!, Second:  3.14, Third: 'bye!'\n"
          ]
        }
      ]
    },
    {
      "cell_type": "code",
      "source": [
        "print('First: {0}, Second: {1}, Third: {2}'.format('hi!',3.1415,'bye!'))"
      ],
      "metadata": {
        "colab": {
          "base_uri": "https://localhost:8080/"
        },
        "id": "3x7z296V4x0G",
        "outputId": "0ad91ebc-b624-41dd-dc5f-f17bea70bfba"
      },
      "execution_count": 32,
      "outputs": [
        {
          "output_type": "stream",
          "name": "stdout",
          "text": [
            "First: hi!, Second: 3.1415, Third: bye!\n"
          ]
        }
      ]
    },
    {
      "cell_type": "code",
      "source": [
        "print('First Object: {a}, Second Object: {b}, Third Object: {c}'.format(a=1,b='Two',c=12.3))"
      ],
      "metadata": {
        "colab": {
          "base_uri": "https://localhost:8080/"
        },
        "id": "eQB_FEe-5XUx",
        "outputId": "b14b9894-5a7a-4cac-9716-28b9a16653c0"
      },
      "execution_count": 33,
      "outputs": [
        {
          "output_type": "stream",
          "name": "stdout",
          "text": [
            "First Object: 1, Second Object: Two, Third Object: 12.3\n"
          ]
        }
      ]
    },
    {
      "cell_type": "code",
      "source": [
        "print('{0:15} | {1:20}'.format('Fruit', 'Quantity'))\n",
        "print('{0:8} | {1:9}'.format('Apples', 3.))\n",
        "print('{0:8} | {1:9}'.format('Oranges', 10))"
      ],
      "metadata": {
        "colab": {
          "base_uri": "https://localhost:8080/"
        },
        "id": "evA-dlcq5uII",
        "outputId": "1e529590-cdc0-4cee-e08e-030f2749edf6"
      },
      "execution_count": 39,
      "outputs": [
        {
          "output_type": "stream",
          "name": "stdout",
          "text": [
            "Fruit           | Quantity            \n",
            "Apples   |       3.0\n",
            "Oranges  |        10\n"
          ]
        }
      ]
    },
    {
      "cell_type": "code",
      "source": [
        "print('{0:<8} | {1:^8} | {2:>8}'.format('Left','Center','Right'))\n",
        "print('{0:<8} | {1:^8} | {2:>8}'.format(11,22,33))"
      ],
      "metadata": {
        "colab": {
          "base_uri": "https://localhost:8080/"
        },
        "id": "nKKHi5bB6Nqu",
        "outputId": "0988e5f9-d8eb-4488-ab71-f4fdfb9077ba"
      },
      "execution_count": 40,
      "outputs": [
        {
          "output_type": "stream",
          "name": "stdout",
          "text": [
            "Left     |  Center  |    Right\n",
            "11       |    22    |       33\n"
          ]
        }
      ]
    },
    {
      "cell_type": "code",
      "source": [
        "print('This is my ten-character, two-decimal number:%10.2f' %13.579)\n",
        "print('This is my ten-character, two-decimal number:{1:10.2f}'.format(13.579, 14.788))"
      ],
      "metadata": {
        "colab": {
          "base_uri": "https://localhost:8080/"
        },
        "id": "YKEupN6l6lv9",
        "outputId": "bca2ac23-2f75-4183-86b3-d7ae03cd6666"
      },
      "execution_count": 42,
      "outputs": [
        {
          "output_type": "stream",
          "name": "stdout",
          "text": [
            "This is my ten-character, two-decimal number:     13.58\n",
            "This is my ten-character, two-decimal number:     14.79\n"
          ]
        }
      ]
    },
    {
      "cell_type": "code",
      "source": [
        "name = 'Fred'\n",
        "\n",
        "print(f\"He said his name is {name}.\")\n",
        "print(f\"He said his name is {name!r}\")"
      ],
      "metadata": {
        "colab": {
          "base_uri": "https://localhost:8080/"
        },
        "id": "DRz_qBHJ6-Mk",
        "outputId": "480a5d13-fb2e-4395-c95f-263d681c82cb"
      },
      "execution_count": 43,
      "outputs": [
        {
          "output_type": "stream",
          "name": "stdout",
          "text": [
            "He said his name is Fred.\n"
          ]
        }
      ]
    }
  ]
}